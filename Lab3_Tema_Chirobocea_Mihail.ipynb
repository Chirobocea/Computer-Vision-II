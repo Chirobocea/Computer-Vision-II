{
  "cells": [
    {
      "cell_type": "markdown",
      "metadata": {
        "id": "ZpoTZudv_LK5"
      },
      "source": [
        "## Straturi Noi\n",
        "\n",
        "In continuare o sa utilizam o parte din straturile prezentate in curs.\n",
        "\n",
        "Staturi noi:\n",
        "\n",
        "Layer Convolutional:\n",
        "* [torch.nn.Conv2d](https://pytorch.org/docs/stable/generated/torch.nn.Conv2d.html)(in_channels, out_channels, kernel_size, stride=1, padding=0)\n",
        "\n",
        "Layere Pooling:\n",
        "* [torch.nn.MaxPool2d](https://pytorch.org/docs/stable/generated/torch.nn.MaxPool2d.html)(kernel_size, stride=None, padding=0)\n",
        "*  [torch.nn.AveragePool2d](https://pytorch.org/docs/stable/generated/torch.nn.AvgPool2d.html)(kernel_size, stride=None, padding=0)\n",
        "\n",
        "Layere Adaptive Pool, intalnit adesea si ca Global Pool:\n",
        "* [torch.nn.AdaptiveAvgPool2d](https://pytorch.org/docs/stable/generated/torch.nn.AdaptiveAvgPool2d.html)(output_size)\n",
        "* [torch.nn.AdaptiveMaxPool2d](https://pytorch.org/docs/stable/generated/torch.nn.AdaptiveMaxPool2d.html)(output_size)\n",
        "\n",
        "Layer de liniarizare:\n",
        "\n",
        "* [torch.nn.Flatten()](https://pytorch.org/docs/stable/generated/torch.flatten.html)\n",
        "\n"
      ]
    },
    {
      "cell_type": "markdown",
      "metadata": {
        "id": "muaF8nG2CNdm"
      },
      "source": [
        "Four **hyperparameters** control the size of the output volume:\n",
        "* **Depth**: number of filters, as each filter _looks_ at different areas of the input:\n",
        "* **Stride**: the step taken when _sliding_ the filter. (Usually 1 or 2, 3 - uncommon).\n",
        "* **Zero-Padding**: size of the number of 0s that surround the border of the input volume. Example: If you want to the same width and height for input and output.\n",
        "* **Dilation**: Distance between elements of the convolutional kernel.\n",
        "\n"
      ]
    },
    {
      "cell_type": "markdown",
      "metadata": {
        "id": "EJUUhdghGKMF"
      },
      "source": [
        "**Why Pooling Layer?**\n",
        "\n",
        "1. Modifica volumul de input (input volume) in reprezentari _mai mici_ si mai usor de _manevrat_.\n",
        "2. Opereaza independent pe fiecare Activation Map.\n",
        "\n",
        "<img src=\"https://computersciencewiki.org/images/9/9e/MaxpoolSample.png\" width=\"425\" height=\"300\"/> <img src=\"https://miro.medium.com/v2/resize:fit:517/0*lIcR0gOMK0xzTr6_.png\" width=\"425\" height=\"300\"/> \n",
        "\n",
        "\n",
        "\n",
        "\n"
      ]
    },
    {
      "cell_type": "markdown",
      "metadata": {
        "id": "W1xV1DWySMUk"
      },
      "source": [
        "**Why Adaptive Pooling Layer?**\n",
        "\n",
        "1. Folosite de regula in etapele finale de constructie a unei arhitecturi de tipul _ConvNet_ pentru a inlocui fully-connected layers.\n",
        "2. Incearca sa previna *overfitting phenomenon* fortand feature maps sa retina informatia **globala** care este relevanta pentru task-ul acestei _ConvNet_ (clasificare, identifcare etc.)\n",
        "\n",
        "<img src=\"https://www.researchgate.net/publication/338079465/figure/fig4/AS:905983672987648@1593014748012/The-difference-of-max-pooling-and-global-max-pooling.ppm\" width=\"725\" height=\"300\"/>\n",
        "\n",
        "\n",
        "<img src=\"https://drive.google.com/uc?id=11l7Xsh-iQmASvXTkgH2MgtA01XCW6CAC\">\n"
      ]
    },
    {
      "cell_type": "markdown",
      "metadata": {
        "id": "AoaES2H0SK6f"
      },
      "source": [
        "[Visualise them Here](https://github.com/vdumoulin/conv_arithmetic)."
      ]
    },
    {
      "cell_type": "code",
      "execution_count": null,
      "metadata": {
        "id": "5HWqK9mqHxgB",
        "outputId": "da930885-7e25-4a24-b37a-193c3117ca0e"
      },
      "outputs": [
        {
          "name": "stdout",
          "output_type": "stream",
          "text": [
            "Conv1 result shape torch.Size([1, 10, 49, 49])\n",
            "Conv2 result shape torch.Size([1, 10, 44, 44])\n",
            "Pool result shape torch.Size([1, 3, 33, 33])\n",
            "Global Pool result shape torch.Size([1, 3, 5, 5])\n",
            "Flaten result shape torch.Size([1, 30000])\n"
          ]
        }
      ],
      "source": [
        "import numpy as np\n",
        "import torch.nn as nn\n",
        "import torch\n",
        "\n",
        "dummy_input_tensor = torch.rand((1,3,100,100))  # Input random de marime 100x100 cu 3 canale\n",
        "\n",
        "layer = nn.Conv2d(in_channels=3, out_channels=10, kernel_size=(3,3), stride=(2,2))\n",
        "print(\"Conv1 result shape\",layer(dummy_input_tensor).shape)\n",
        "\n",
        "layer = nn.Conv2d(in_channels=3, out_channels=10, kernel_size=(13,13), stride=(2,2))\n",
        "print(\"Conv2 result shape\",layer(dummy_input_tensor).shape)\n",
        "\n",
        "layer = nn.MaxPool2d(kernel_size=(3,3)) # Stride este inferat din kernel size, ca fiind egal cu kernel size ca sa nu repete elementele luate\n",
        "print(\"Pool result shape\",layer(dummy_input_tensor).shape)\n",
        "\n",
        "# Utilizate pentru a reduce dimensiunea la una prestabilita, util cand marimea input ului este variabil\n",
        "layer = nn.AdaptiveAvgPool2d(output_size=(5,5))\n",
        "print(\"Global Pool result shape\",layer(dummy_input_tensor).shape)\n",
        "\n",
        "layer = nn.Flatten()\n",
        "print(\"Flaten result shape\",layer(dummy_input_tensor).shape)"
      ]
    },
    {
      "cell_type": "markdown",
      "metadata": {
        "id": "GOTmqyCxJ3fk"
      },
      "source": [
        "###Cerinte\n",
        "\n",
        "**(1p)** Utilizati o serie de Conv2D/Pool2D pentru a ajunge la urmatoarele marimi plecand de la input 3x100x100:\n",
        "*   [1, 10, 25, 25] # Stride & Padding\n",
        "*   [1, 10, 32, 32]\n",
        "*  [1, 3, 2, 2]\n",
        "\n"
      ]
    },
    {
      "cell_type": "code",
      "execution_count": 3,
      "metadata": {
        "id": "7HtEeXbeKeKu",
        "outputId": "629111bd-e4b9-42ff-dcc3-ef49a3fc5843"
      },
      "outputs": [
        {
          "name": "stdout",
          "output_type": "stream",
          "text": [
            "Conv1  torch.Size([1, 10, 25, 25])\n",
            "Conv2  torch.Size([1, 10, 32, 32])\n",
            "Conv3  torch.Size([1, 3, 2, 2])\n"
          ]
        }
      ],
      "source": [
        "import numpy as np\n",
        "import torch.nn as nn\n",
        "import torch\n",
        "\n",
        "dummy_input_tensor = torch.rand((1,3,100,100))  # Input random de marime 100x100 cu 3 canale\n",
        "\n",
        "layer = nn.Sequential(\n",
        "    nn.Conv2d(in_channels=3, out_channels=10, kernel_size=2, stride=2),\n",
        "    nn.MaxPool2d(2),\n",
        ")\n",
        "print(\"Conv1 \",layer(dummy_input_tensor).shape)\n",
        "\n",
        "layer = nn.Sequential(\n",
        "    nn.Conv2d(3, 10, kernel_size=5, stride=3, padding=0)\n",
        ")\n",
        "print(\"Conv2 \",layer(dummy_input_tensor).shape)\n",
        "\n",
        "layer = nn.Sequential(\n",
        "    nn.MaxPool2d(2),\n",
        "    nn.MaxPool2d(2),\n",
        "    nn.MaxPool2d(2),\n",
        "    nn.MaxPool2d(2),\n",
        "    nn.Conv2d(in_channels=3, out_channels=3, kernel_size=3, stride=2, padding=0), #remove 4\n",
        ")\n",
        "print(\"Conv3 \",layer(dummy_input_tensor).shape)"
      ]
    },
    {
      "cell_type": "markdown",
      "metadata": {
        "id": "yvdPtetggm61"
      },
      "source": [
        "## Instantierea seturilor de date"
      ]
    },
    {
      "cell_type": "code",
      "execution_count": 1,
      "metadata": {
        "colab": {
          "base_uri": "https://localhost:8080/",
          "height": 84,
          "referenced_widgets": [
            "b38079d979114f0ca269bd872dedf348",
            "10625c48be5540f39702bb04b0f3a7d2",
            "a0466ecd880c4ae0980cb2e01ba16ac4",
            "68047f843b184569adeb3ad30ed7570b",
            "b2741e5fa5ac410bbbae7b177b091856",
            "defa9c475caf469a98860d6f6e189e26",
            "960911735816424fb892187d990405b5",
            "bb757c72ac9c4a7c8b10dee50a60906b",
            "50b0ed2fabf044ffbf73587e533840bf",
            "598a25f6f7104777be24e1e4a9b4188c",
            "f6c2a838ab974a0283be361b1799f0f5"
          ]
        },
        "id": "czyIhYt5gmUQ",
        "outputId": "4968a33c-9993-40f4-f092-3ba99be5ce83"
      },
      "outputs": [
        {
          "name": "stdout",
          "output_type": "stream",
          "text": [
            "Downloading https://www.cs.toronto.edu/~kriz/cifar-10-python.tar.gz to ./data/cifar-10-python.tar.gz\n"
          ]
        },
        {
          "data": {
            "application/vnd.jupyter.widget-view+json": {
              "model_id": "b38079d979114f0ca269bd872dedf348",
              "version_major": 2,
              "version_minor": 0
            },
            "text/plain": [
              "  0%|          | 0/170498071 [00:00<?, ?it/s]"
            ]
          },
          "metadata": {},
          "output_type": "display_data"
        },
        {
          "name": "stdout",
          "output_type": "stream",
          "text": [
            "Extracting ./data/cifar-10-python.tar.gz to ./data\n"
          ]
        }
      ],
      "source": [
        "import torchvision\n",
        "\n",
        "cifar_train = torchvision.datasets.CIFAR10(\"./data\", download=True)\n",
        "cifar_test = torchvision.datasets.CIFAR10(\"./data\", train=False)"
      ]
    },
    {
      "cell_type": "markdown",
      "metadata": {
        "id": "FOA4ted_hHdB"
      },
      "source": [
        "## Crearea Dataloader-ului\n",
        "\n",
        "### Cerinte\n",
        " * **(2p)** Implementati functia de preprocesare a datelor, __collate_fn(examples)__.\n",
        "\n",
        "\n",
        "Atentie! Spre deosebire de intrarea pentru retelele fully-connected, pentru retelele convolutionale intrearea nu trebuie liniarizata, ci doar normalizata.\n",
        "\n",
        "#### Hint\n",
        "\n",
        "  * Amintiti-va folosirea functiei __normalize__ din torchvision.transforms.functional din laboratorul trecut.\n",
        "  * Modificati functia *collate_fn* din laboratorul trecut, pentru a normaliza datele in intervalul [-1, 1]"
      ]
    },
    {
      "cell_type": "code",
      "execution_count": 2,
      "metadata": {
        "id": "Jf4CRtpGHz2o"
      },
      "outputs": [],
      "source": [
        "import torch\n",
        "import numpy as np\n",
        "from torch.utils.data import DataLoader\n",
        "from torchvision.transforms.functional import to_tensor, normalize\n",
        "\n",
        "\n",
        "def collate_fn(examples):\n",
        "  processed_images = []\n",
        "  processed_labels = []\n",
        "\n",
        "  for example in examples:\n",
        "    tensor_image = to_tensor(example[0])\n",
        "    normalized_tensor_image = normalize(tensor_image, [0.5, 0.5, 0.5], [0.5, 0.5, 0.5])\n",
        "    vector_image = normalized_tensor_image.unsqueeze(0)\n",
        "    processed_images.append(vector_image)\n",
        "    \n",
        "    label = np.array(example[1])\n",
        "    tensor_label = torch.tensor(label)\n",
        "    tensor_label = tensor_label.unsqueeze(0)\n",
        "    processed_labels.append(tensor_label)\n",
        "\n",
        "  torch_images = torch.cat(processed_images, dim=0)\n",
        "  torch_labels = torch.cat(processed_labels, dim=0)\n",
        "\n",
        "  return torch_images, torch_labels\n",
        "\n",
        "\n",
        "train_loader = DataLoader(cifar_train, batch_size=500, shuffle=True, collate_fn=collate_fn)\n",
        "test_loader = DataLoader(cifar_test, batch_size=1, shuffle=False, collate_fn=collate_fn)"
      ]
    },
    {
      "cell_type": "markdown",
      "metadata": {
        "id": "cnV6PIC1kQMi"
      },
      "source": [
        "## Crearea unei retele neurale convolutionale\n",
        "\n",
        "### Cerinte\n",
        " * **(1p)** Creati o clasa care mosteneste clasa nn.Module. Ea va reprezenta o retea neurala convolutionala pentru clasificare ale celor 10 clase din datasetul CIFAR10.\n",
        "    * Reteaua trebuie sa aiba 2 straturi convolutionale care sa reduca dimensiunea spatiala a imaginii de 2 ori (0.25 p).\n",
        "    * Liniarizati iesirea din cel de-al doilea strat convolutional (0.25 p).\n",
        "    * Adaugat stratul final de tipul `fully-connected` (0.25 p).\n",
        "    * Folositi o functie de activare la alegere (Exemplu [RELU](https://pytorch.org/docs/stable/generated/torch.nn.ReLU.html)) (0.25 p).\n",
        "\n",
        "#### Hint\n",
        "\n",
        "Pentru a liniariza iesirea din cel de-al doilea feature map puteti adopta mai multe strategii:\n",
        "  * Liniarizare prin schimbarea shape-ului la [batch_size, -1]\n",
        "  * Global Max Pooling si apoi liniarizare la [batch_size, -1]\n",
        "  * Average Max Pooling si apoi liniarizare la [batch_size, -1]"
      ]
    },
    {
      "cell_type": "code",
      "execution_count": 36,
      "metadata": {
        "id": "u1Ddc7D-lAEN"
      },
      "outputs": [],
      "source": [
        "import torch.nn as nn\n",
        "\n",
        "class Net(nn.Module):\n",
        "  def __init__(self):\n",
        "    super(Net, self).__init__()\n",
        "    self.conv = nn.Sequential(\n",
        "      nn.Conv2d(in_channels=3, out_channels=64, kernel_size=3, stride=2, padding=1),\n",
        "      nn.ReLU(),\n",
        "      nn.Conv2d(in_channels=64, out_channels=128, kernel_size=3, stride=2, padding=1),\n",
        "      nn.ReLU(),\n",
        "    )\n",
        "\n",
        "    self.linear = nn.Sequential(\n",
        "      nn.Flatten(),\n",
        "      nn.Linear(in_features=8*8*128, out_features=10),\n",
        "      nn.Softmax(dim=-1),\n",
        "    )\n",
        "\n",
        "  def forward(self,x):\n",
        "    x = self.conv(x)\n",
        "    x = self.linear(x)\n",
        "    return x"
      ]
    },
    {
      "cell_type": "markdown",
      "metadata": {
        "id": "wK0Z9NeYTghv"
      },
      "source": [
        "## Definirea obiectelor folosite in timpul antrenarii\n",
        "\n",
        "### Cerinte **(1p)**\n",
        "  * Numarul de epoci (0.25 p)\n",
        "  * Retea (0.25 p)\n",
        "  * Optimizator (0.25 p)\n",
        "  * Alegeti functia de cost (0.25 p)"
      ]
    },
    {
      "cell_type": "code",
      "execution_count": 37,
      "metadata": {
        "id": "Az3WKQdpod34"
      },
      "outputs": [],
      "source": [
        "import torch.optim as optim\n",
        "\n",
        "# Definiti numarul de epoci\n",
        "epochs = 20\n",
        "\n",
        "# Definiti reteaua\n",
        "network = Net()\n",
        "\n",
        "# Definiti optimizatorul\n",
        "optimizer = optim.SGD(network.parameters(),lr=1e-4, momentum=0.9)\n",
        "\"\"\"\n",
        "Dupa definirea optimizatorului si dupa fiecare iteratie de antrenare, trebuie \n",
        "apelata functia zero_grad() pentru a seta valoare tuturor gradientilor la zero.\n",
        "\"\"\"\n",
        "# Completati aici codul pentru seta valoare tuturor gradientilor la zero\n",
        "optimizer.zero_grad()\n",
        "\n",
        "# Definiti functia cost pentru clasificare Cross-Entropy\n",
        "# https://neptune.ai/blog/pytorch-loss-functions\n",
        "loss_fn = nn.CrossEntropyLoss()"
      ]
    },
    {
      "cell_type": "markdown",
      "metadata": {
        "id": "GAnUsWYWodb4"
      },
      "source": [
        "## Definirea functiei de antrenare"
      ]
    },
    {
      "cell_type": "code",
      "execution_count": 40,
      "metadata": {
        "id": "K9MTYanoMZ8H"
      },
      "outputs": [],
      "source": [
        "device = torch.device(\"cuda\" if torch.cuda.is_available() else \"cpu\")\n",
        "\n",
        "def test_acc(net: nn.Module, test_loader: DataLoader):\n",
        "  net.eval()\n",
        "\n",
        "  total = 0\n",
        "  correct = 0\n",
        "\n",
        "  for test_images, test_labels in test_loader:\n",
        "    test_images = test_images.to(device)\n",
        "    test_labels = test_labels.to(device)\n",
        "    total += len(test_images)\n",
        "    out_class = torch.argmax(net(test_images))\n",
        "    correct += torch.sum(out_class == test_labels)\n",
        "\n",
        "  return correct / total * 100\n",
        "\n",
        "\n",
        "def train_fn(epochs: int, train_loader: DataLoader, test_loader: DataLoader, \n",
        "             net: nn.Module, loss_fn: nn.Module, optimizer: optim.Optimizer):\n",
        "  \n",
        "  net = net.to(device)\n",
        "  # Iteram prin numarul de epoci\n",
        "  for e in range(epochs):\n",
        "    net.train()\n",
        "\n",
        "    # Iteram prin fiecare batch din dataloader\n",
        "    for images, labels in train_loader:\n",
        "      images = images.to(device)\n",
        "      labels = labels.to(device)\n",
        "      # Aplicam reteaua neurala pe imaginile din batch-ul curent\n",
        "      out = net(images)\n",
        "      # Aplicam functia cost pe iesirea retelei neurale si pe etichetele imaginilor \n",
        "      loss = loss_fn(out, labels)\n",
        "      # Aplicam algoritmul de back-propagation\n",
        "      loss.backward()\n",
        "      # Facem pasul de optimizare, pentru a actualiza parametrii retelei\n",
        "      optimizer.step()\n",
        "      # Apelam functia zero_grad() pentru a uita gradientii de la iteratie curenta\n",
        "      optimizer.zero_grad()\n",
        "    \n",
        "    print(\"Loss-ul la finalul epocii {} are valoarea {}\".format(e, loss.item()))\n",
        "\n",
        "    # Calculam acuratetea\n",
        "    acc = test_acc(net, test_loader)\n",
        "    print(\"Acuratetea la finalul epocii {} este {:.2f}%\".format(e + 1, acc))"
      ]
    },
    {
      "cell_type": "markdown",
      "metadata": {
        "id": "OWvb00A-TkJq"
      },
      "source": [
        "\n",
        "## Antrenarea\n",
        "\n",
        "### Cerinte\n",
        "  * Antrenati reteaua definita mai sus (clasa Net)"
      ]
    },
    {
      "cell_type": "code",
      "execution_count": 41,
      "metadata": {
        "colab": {
          "base_uri": "https://localhost:8080/"
        },
        "id": "ZqUwOWmDMpqQ",
        "outputId": "04ef3166-dc09-4394-f81e-bd28da16e11e"
      },
      "outputs": [
        {
          "name": "stdout",
          "output_type": "stream",
          "text": [
            "Loss-ul la finalul epocii 0 are valoarea 2.302001476287842\n",
            "Acuratetea la finalul epocii 1 este 12.32%\n",
            "Loss-ul la finalul epocii 1 are valoarea 2.3018457889556885\n",
            "Acuratetea la finalul epocii 2 este 12.96%\n",
            "Loss-ul la finalul epocii 2 are valoarea 2.302072048187256\n",
            "Acuratetea la finalul epocii 3 este 13.42%\n",
            "Loss-ul la finalul epocii 3 are valoarea 2.3017592430114746\n",
            "Acuratetea la finalul epocii 4 este 13.81%\n",
            "Loss-ul la finalul epocii 4 are valoarea 2.3011281490325928\n",
            "Acuratetea la finalul epocii 5 este 14.04%\n",
            "Loss-ul la finalul epocii 5 are valoarea 2.3017261028289795\n",
            "Acuratetea la finalul epocii 6 este 14.53%\n",
            "Loss-ul la finalul epocii 6 are valoarea 2.301527261734009\n",
            "Acuratetea la finalul epocii 7 este 14.86%\n",
            "Loss-ul la finalul epocii 7 are valoarea 2.3011884689331055\n",
            "Acuratetea la finalul epocii 8 este 15.00%\n",
            "Loss-ul la finalul epocii 8 are valoarea 2.3011200428009033\n",
            "Acuratetea la finalul epocii 9 este 15.38%\n",
            "Loss-ul la finalul epocii 9 are valoarea 2.300820827484131\n",
            "Acuratetea la finalul epocii 10 este 15.69%\n",
            "Loss-ul la finalul epocii 10 are valoarea 2.300791025161743\n",
            "Acuratetea la finalul epocii 11 este 15.87%\n",
            "Loss-ul la finalul epocii 11 are valoarea 2.300593376159668\n",
            "Acuratetea la finalul epocii 12 este 16.16%\n",
            "Loss-ul la finalul epocii 12 are valoarea 2.3005940914154053\n",
            "Acuratetea la finalul epocii 13 este 16.40%\n",
            "Loss-ul la finalul epocii 13 are valoarea 2.301030158996582\n",
            "Acuratetea la finalul epocii 14 este 16.64%\n",
            "Loss-ul la finalul epocii 14 are valoarea 2.299947500228882\n",
            "Acuratetea la finalul epocii 15 este 16.98%\n",
            "Loss-ul la finalul epocii 15 are valoarea 2.2997031211853027\n",
            "Acuratetea la finalul epocii 16 este 17.29%\n",
            "Loss-ul la finalul epocii 16 are valoarea 2.3004417419433594\n",
            "Acuratetea la finalul epocii 17 este 17.51%\n",
            "Loss-ul la finalul epocii 17 are valoarea 2.299863338470459\n",
            "Acuratetea la finalul epocii 18 este 17.77%\n",
            "Loss-ul la finalul epocii 18 are valoarea 2.3000082969665527\n",
            "Acuratetea la finalul epocii 19 este 17.96%\n",
            "Loss-ul la finalul epocii 19 are valoarea 2.299323558807373\n",
            "Acuratetea la finalul epocii 20 este 18.16%\n"
          ]
        }
      ],
      "source": [
        "train_fn(epochs, train_loader, test_loader, network, loss_fn, optimizer)"
      ]
    },
    {
      "cell_type": "markdown",
      "metadata": {
        "id": "zmVavwztTZkz"
      },
      "source": [
        "## Reteaua LeNet\n",
        "\n",
        "### Cerinte\n",
        "  * **(3p)** Implementati reteaua LeNet dupa figura de mai jos si antrenati-o.\n",
        "\n",
        "\n",
        "\n",
        "![alt text](https://drive.google.com/uc?id=1OVancUyIViMRMZdULFSVCvXJHQP0NGUV)\n",
        "\n",
        "Figura arhitectura LeNet\n",
        "\n",
        "![alt text](https://debuggercafe.com/wp-content/uploads/2019/07/Layers-in-LeNet.png)\n",
        "\n",
        "Tabel arhitectura LeNet\n",
        "\n",
        "_Question:_ Care este diferenta dintre `tanh` si `softmax`? De ce credeti ca peste ultimul layer (cel de output) a fost aplicata functia `softmax`?\n"
      ]
    },
    {
      "cell_type": "code",
      "execution_count": 50,
      "metadata": {
        "id": "zoe1vbggO-4U"
      },
      "outputs": [],
      "source": [
        "import torch.nn as nn\n",
        "\n",
        "class LeNet(nn.Module):\n",
        "  def __init__(self):\n",
        "    super().__init__()\n",
        "    \"\"\"\n",
        "    Punctaj: 2.5p\n",
        "    \"\"\"\n",
        "    self.conv = nn.Sequential(\n",
        "        nn.Conv2d(3, 6, 5, 1),\n",
        "        nn.Tanh(),\n",
        "        nn.AvgPool2d(2),\n",
        "        nn.Conv2d(6, 16, 5, 1),\n",
        "        nn.Tanh(),\n",
        "        nn.AvgPool2d(2),\n",
        "        nn.Conv2d(16, 120, 5, 1),\n",
        "        nn.Tanh()\n",
        "    )\n",
        "\n",
        "    self.linear = nn.Sequential(\n",
        "        nn.Flatten(),\n",
        "        nn.Linear(120, 84),\n",
        "        nn.Tanh(),\n",
        "        nn.Linear(84, 10),\n",
        "        nn.Softmax(dim=-1)\n",
        "    )\n",
        "\n",
        "  def forward(self,x):\n",
        "    \"\"\"\n",
        "    Punctaj: 0.5p\n",
        "    \"\"\"\n",
        "    x = self.conv(x)\n",
        "    x = self.linear(x)\n",
        "    return x"
      ]
    },
    {
      "cell_type": "markdown",
      "metadata": {
        "id": "nMaWPS1gXslS"
      },
      "source": [
        "## Optional: Reteaua AlexNet ❤️\n",
        "\n",
        "❗Daca alegeti aceasta retea veti continua sa rezolvati exercitiile urmatoare pentru reteaua AlexNet.\n",
        "\n",
        "Pentru a usura volumul de munca si obtine o retea AlexNet comparabila in dificultate cu LeNet, urmati acesti pasi:\n",
        "\n",
        "✔️ Includeti functii de activare intre layere (exemplu ReLU).\n",
        "\n",
        "✔️ Va folositi doar de prima subsectiune din schema figurii arhitecturii AlexNet (adica doar Conv1 si Conv2 blocks).\n",
        "\n",
        "✔️ Inputul vostru se opreste la un minimum size de 8x8.\n",
        "\n",
        "✔️ Modificati output-ul retelei sa prezica 10 clase in loc de 1000 de clase.\n",
        "\n",
        "\n",
        "\n",
        "\n",
        "\n",
        "![alt text](https://anhreynolds.com/img/alexnet.png)\n",
        "\n",
        "Figura arhitectura AlexNet.\n",
        "\n",
        "![alt text](https://anhreynolds.com/img/alexnet-parameters.png)\n",
        "\n",
        "Tabel arhitectura AlexNet\n"
      ]
    },
    {
      "cell_type": "code",
      "execution_count": null,
      "metadata": {
        "id": "irXGsufhCiuG"
      },
      "outputs": [],
      "source": [
        "import torch.nn as nn\n",
        "\n",
        "class AlexNet(nn.Module):\n",
        "  def __init__(self):\n",
        "    super().__init__()\n",
        "    \"\"\"\n",
        "    Punctaj: 2.5p\n",
        "    \"\"\"\n",
        "    self.conv = nn.Sequential(\n",
        "        nn.Conv2d(3, 96, 11, 4),\n",
        "        nn.MaxPool2d(3, 2),\n",
        "        nn.Conv2d(96, 256, 3, 2),\n",
        "        nn.MaxPool2d(3, 2),\n",
        "        nn.Conv2d(256, 384, 3, 1, 1),\n",
        "        nn.Conv2d(384, 384, 3, 1),\n",
        "        nn.Conv2d(384, 256, 3, 1),\n",
        "        nn.MaxPool2d(3, 2),\n",
        "    )\n",
        "    self.linear = nn.Sequential(\n",
        "        nn.Flatten(),\n",
        "        nn.Linear(9216, 4096),\n",
        "        nn.Linear(4096, 10),\n",
        "        nn.Softmax(dim=-1)\n",
        "    )\n",
        "\n",
        "  def forward(self,x):\n",
        "    \"\"\"\n",
        "    Punctaj: 0.5p\n",
        "    \"\"\"\n",
        "    return x"
      ]
    },
    {
      "cell_type": "markdown",
      "metadata": {
        "id": "J0XPmGrEol9M"
      },
      "source": [
        "## Redefinirea obiectelor folosite in timpul antrenarii pentru reteaua LeNet\n",
        "\n",
        "### Cerinta\n",
        " * Redefiniti obiectele pentru a antrena reteaua LeNet"
      ]
    },
    {
      "cell_type": "code",
      "execution_count": 51,
      "metadata": {
        "id": "jhqNoDmQo66c"
      },
      "outputs": [],
      "source": [
        "import torch.optim as optim\n",
        "\n",
        "# Definiti numarul de epoci\n",
        "epochs = 20\n",
        "\n",
        "# Definiti reteaua\n",
        "lenet = LeNet()\n",
        "\n",
        "# Definiti optimizatorul\n",
        "lenet_optimizer = optim.SGD(lenet.parameters(), lr=1e-4, momentum=0.9)\n",
        "# Dupa definirea optimizatorului si dupa fiecare iteratie trebuie apelata functia zero_grad().\n",
        "# Aceasta face toti gradientii zero.\n",
        "# Completati codul pentru a face gradientii zero aici\n",
        "\n",
        "\n",
        "# Definiti functia cost pentru clasificare Cross-Entropy\n",
        "loss_fn = nn.CrossEntropyLoss()"
      ]
    },
    {
      "cell_type": "markdown",
      "metadata": {
        "id": "hwIQwUQpo_eR"
      },
      "source": [
        "## Antrenarea retelei LeNet"
      ]
    },
    {
      "cell_type": "code",
      "execution_count": 52,
      "metadata": {
        "colab": {
          "base_uri": "https://localhost:8080/"
        },
        "id": "UUl8W42do_sL",
        "outputId": "22602378-c13c-4c62-99ab-b20c25a8dd4c"
      },
      "outputs": [
        {
          "name": "stdout",
          "output_type": "stream",
          "text": [
            "Loss-ul la finalul epocii 0 are valoarea 2.3025283813476562\n",
            "Acuratetea la finalul epocii 1 este 10.24%\n",
            "Loss-ul la finalul epocii 1 are valoarea 2.301919460296631\n",
            "Acuratetea la finalul epocii 2 este 10.24%\n",
            "Loss-ul la finalul epocii 2 are valoarea 2.302401304244995\n",
            "Acuratetea la finalul epocii 3 este 10.24%\n",
            "Loss-ul la finalul epocii 3 are valoarea 2.302412748336792\n",
            "Acuratetea la finalul epocii 4 este 10.23%\n",
            "Loss-ul la finalul epocii 4 are valoarea 2.3028252124786377\n",
            "Acuratetea la finalul epocii 5 este 10.23%\n",
            "Loss-ul la finalul epocii 5 are valoarea 2.3024821281433105\n",
            "Acuratetea la finalul epocii 6 este 10.23%\n",
            "Loss-ul la finalul epocii 6 are valoarea 2.302541971206665\n",
            "Acuratetea la finalul epocii 7 este 10.24%\n",
            "Loss-ul la finalul epocii 7 are valoarea 2.3023200035095215\n",
            "Acuratetea la finalul epocii 8 este 10.25%\n",
            "Loss-ul la finalul epocii 8 are valoarea 2.302184820175171\n",
            "Acuratetea la finalul epocii 9 este 10.26%\n",
            "Loss-ul la finalul epocii 9 are valoarea 2.30242919921875\n",
            "Acuratetea la finalul epocii 10 este 10.27%\n",
            "Loss-ul la finalul epocii 10 are valoarea 2.3021059036254883\n",
            "Acuratetea la finalul epocii 11 este 10.26%\n",
            "Loss-ul la finalul epocii 11 are valoarea 2.3021926879882812\n",
            "Acuratetea la finalul epocii 12 este 10.26%\n",
            "Loss-ul la finalul epocii 12 are valoarea 2.3025927543640137\n",
            "Acuratetea la finalul epocii 13 este 10.26%\n",
            "Loss-ul la finalul epocii 13 are valoarea 2.302281379699707\n",
            "Acuratetea la finalul epocii 14 este 10.26%\n",
            "Loss-ul la finalul epocii 14 are valoarea 2.3017828464508057\n",
            "Acuratetea la finalul epocii 15 este 10.26%\n",
            "Loss-ul la finalul epocii 15 are valoarea 2.301964521408081\n",
            "Acuratetea la finalul epocii 16 este 10.26%\n",
            "Loss-ul la finalul epocii 16 are valoarea 2.302183151245117\n",
            "Acuratetea la finalul epocii 17 este 10.26%\n",
            "Loss-ul la finalul epocii 17 are valoarea 2.302356004714966\n",
            "Acuratetea la finalul epocii 18 este 10.26%\n",
            "Loss-ul la finalul epocii 18 are valoarea 2.301872730255127\n",
            "Acuratetea la finalul epocii 19 este 10.26%\n",
            "Loss-ul la finalul epocii 19 are valoarea 2.30224609375\n",
            "Acuratetea la finalul epocii 20 este 10.27%\n"
          ]
        }
      ],
      "source": [
        "train_fn(epochs, train_loader, test_loader, lenet, loss_fn, lenet_optimizer)"
      ]
    },
    {
      "cell_type": "markdown",
      "metadata": {
        "id": "OspDtfFnTodr"
      },
      "source": [
        "###Augmentare retea\n",
        "\n",
        "Reteaua de mai devreme duce lipsa de regularizare. O forma foarte puternica de regularizare este normalizarea, iar pentru acest lucru exista straturi speciale.\n",
        "\n",
        "Astfel de straturi:\n",
        "\n",
        "* [torch.nn.BatchNorm2d](https://pytorch.org/docs/stable/generated/torch.nn.BatchNorm2d.html) (num_features)\n",
        "* [torch.nn.InstanceNorm2d](https://pytorch.org/docs/stable/generated/torch.nn.InstanceNorm2d.html) (num_features)\n",
        "\n",
        "Un alt element important il reprezinta functiile de activare, care pot influenta convergenta si puterea retelei. Cateva exemple de alte functii de activare:\n",
        "\n",
        "* ReLU\n",
        "* Sigmoid\n",
        "* Tanh\n",
        "* LeakyRelu\n",
        "* GELU\n",
        "\n",
        "## Cerinta\n",
        "\n",
        "**(2p)** Experimentati cu aceste elemente in cadrul retelei LeNet definita mai devreme, pentru a obtine o acuratete mai buna. Observati viteza de convergenta si performanta retelei pentru 3 configuratii diferite.\n",
        "\n",
        "**Punctaj:** 0.6p / configuratie.\n",
        "\n",
        "0.6p din care:\n",
        "- 0.4p modificarea retelei\n",
        "- 0.1p obtinerea rezultatelor\n",
        "- 0.1p afisarea acestora si explicatie.\n",
        "\n",
        "\n",
        "###Bonus\n",
        "**(1p)** Antrenati reteaua folosind GPU (Graphics processing unit)\n",
        "\n",
        "\n",
        "\n",
        "\n",
        "\n",
        "\n",
        "\n",
        "\n",
        "  \n"
      ]
    },
    {
      "cell_type": "code",
      "execution_count": 57,
      "metadata": {
        "id": "8bROgHAlKYRv"
      },
      "outputs": [],
      "source": [
        "import torch.nn as nn\n",
        "\n",
        "class LeNet1(nn.Module):\n",
        "  def __init__(self):\n",
        "    super().__init__()\n",
        "    self.conv = nn.Sequential(\n",
        "        nn.Conv2d(3, 6, 5, 1),\n",
        "        nn.BatchNorm2d(6),\n",
        "        nn.Tanh(),\n",
        "        nn.AvgPool2d(2),\n",
        "        nn.Conv2d(6, 16, 5, 1),\n",
        "        nn.BatchNorm2d(16),\n",
        "        nn.Tanh(),\n",
        "        nn.AvgPool2d(2),\n",
        "        nn.Conv2d(16, 120, 5, 1),\n",
        "        nn.BatchNorm2d(120),\n",
        "        nn.Tanh()\n",
        "    )\n",
        "\n",
        "    self.linear = nn.Sequential(\n",
        "        nn.Flatten(),\n",
        "        nn.Linear(120, 84),\n",
        "        nn.BatchNorm1d(84),\n",
        "        nn.Tanh(),\n",
        "        nn.Linear(84, 10),\n",
        "        nn.Softmax(dim=-1)\n",
        "    )\n",
        "\n",
        "  def forward(self,x):\n",
        "    x = self.conv(x)\n",
        "    x = self.linear(x)\n",
        "    return x"
      ]
    },
    {
      "cell_type": "code",
      "execution_count": 58,
      "metadata": {
        "colab": {
          "base_uri": "https://localhost:8080/"
        },
        "id": "xXUGJ3Ksgm0x",
        "outputId": "0e071325-4752-446c-b6d2-6ccba33d578c"
      },
      "outputs": [
        {
          "name": "stdout",
          "output_type": "stream",
          "text": [
            "Loss-ul la finalul epocii 0 are valoarea 2.306962728500366\n",
            "Acuratetea la finalul epocii 1 este 8.16%\n",
            "Loss-ul la finalul epocii 1 are valoarea 2.3053653240203857\n",
            "Acuratetea la finalul epocii 2 este 9.26%\n",
            "Loss-ul la finalul epocii 2 are valoarea 2.3011231422424316\n",
            "Acuratetea la finalul epocii 3 este 10.53%\n",
            "Loss-ul la finalul epocii 3 are valoarea 2.3010377883911133\n",
            "Acuratetea la finalul epocii 4 este 11.91%\n",
            "Loss-ul la finalul epocii 4 are valoarea 2.2992970943450928\n",
            "Acuratetea la finalul epocii 5 este 13.37%\n",
            "Loss-ul la finalul epocii 5 are valoarea 2.2964699268341064\n",
            "Acuratetea la finalul epocii 6 este 14.78%\n",
            "Loss-ul la finalul epocii 6 are valoarea 2.3003618717193604\n",
            "Acuratetea la finalul epocii 7 este 15.85%\n",
            "Loss-ul la finalul epocii 7 are valoarea 2.2935078144073486\n",
            "Acuratetea la finalul epocii 8 este 16.94%\n",
            "Loss-ul la finalul epocii 8 are valoarea 2.2930352687835693\n",
            "Acuratetea la finalul epocii 9 este 17.97%\n",
            "Loss-ul la finalul epocii 9 are valoarea 2.2899279594421387\n",
            "Acuratetea la finalul epocii 10 este 18.74%\n",
            "Loss-ul la finalul epocii 10 are valoarea 2.2911932468414307\n",
            "Acuratetea la finalul epocii 11 este 19.64%\n",
            "Loss-ul la finalul epocii 11 are valoarea 2.285343647003174\n",
            "Acuratetea la finalul epocii 12 este 20.38%\n",
            "Loss-ul la finalul epocii 12 are valoarea 2.2856061458587646\n",
            "Acuratetea la finalul epocii 13 este 21.21%\n",
            "Loss-ul la finalul epocii 13 are valoarea 2.2801966667175293\n",
            "Acuratetea la finalul epocii 14 este 21.80%\n",
            "Loss-ul la finalul epocii 14 are valoarea 2.282010793685913\n",
            "Acuratetea la finalul epocii 15 este 22.24%\n",
            "Loss-ul la finalul epocii 15 are valoarea 2.280902862548828\n",
            "Acuratetea la finalul epocii 16 este 22.70%\n",
            "Loss-ul la finalul epocii 16 are valoarea 2.2764699459075928\n",
            "Acuratetea la finalul epocii 17 este 23.03%\n",
            "Loss-ul la finalul epocii 17 are valoarea 2.2766685485839844\n",
            "Acuratetea la finalul epocii 18 este 23.27%\n",
            "Loss-ul la finalul epocii 18 are valoarea 2.2730963230133057\n",
            "Acuratetea la finalul epocii 19 este 23.44%\n",
            "Loss-ul la finalul epocii 19 are valoarea 2.2706286907196045\n",
            "Acuratetea la finalul epocii 20 este 23.67%\n"
          ]
        }
      ],
      "source": [
        "epochs = 20\n",
        "\n",
        "lenet = LeNet1()\n",
        "lenet_optimizer = optim.SGD(lenet.parameters(), lr=1e-4, momentum=0.9)\n",
        "loss_fn = nn.CrossEntropyLoss()\n",
        "\n",
        "train_fn(epochs, train_loader, test_loader, lenet, loss_fn, lenet_optimizer)"
      ]
    },
    {
      "cell_type": "code",
      "execution_count": 59,
      "metadata": {
        "id": "MqVe47UogEAJ"
      },
      "outputs": [],
      "source": [
        "import torch.nn as nn\n",
        "\n",
        "class LeNet2(nn.Module):\n",
        "  def __init__(self):\n",
        "    super().__init__()\n",
        "    self.conv = nn.Sequential(\n",
        "        nn.Conv2d(3, 6, 5, 1),\n",
        "        nn.BatchNorm2d(6),\n",
        "        nn.ReLU(),\n",
        "        nn.AvgPool2d(2),\n",
        "        nn.Conv2d(6, 16, 5, 1),\n",
        "        nn.BatchNorm2d(16),\n",
        "        nn.ReLU(),\n",
        "        nn.AvgPool2d(2),\n",
        "        nn.Conv2d(16, 120, 5, 1),\n",
        "        nn.BatchNorm2d(120),\n",
        "        nn.ReLU(),\n",
        "    )\n",
        "\n",
        "    self.linear = nn.Sequential(\n",
        "        nn.Flatten(),\n",
        "        nn.Linear(120, 84),\n",
        "        nn.BatchNorm1d(84),\n",
        "        nn.ReLU(),\n",
        "        nn.Linear(84, 10),\n",
        "        nn.Softmax(dim=-1)\n",
        "    )\n",
        "\n",
        "  def forward(self,x):\n",
        "    x = self.conv(x)\n",
        "    x = self.linear(x)\n",
        "    return x"
      ]
    },
    {
      "cell_type": "code",
      "execution_count": 60,
      "metadata": {
        "colab": {
          "base_uri": "https://localhost:8080/"
        },
        "id": "M3EBwNnvgu13",
        "outputId": "75570e16-17ba-4f68-ef72-cd77e0da4438"
      },
      "outputs": [
        {
          "name": "stdout",
          "output_type": "stream",
          "text": [
            "Loss-ul la finalul epocii 0 are valoarea 2.3023681640625\n",
            "Acuratetea la finalul epocii 1 este 10.27%\n",
            "Loss-ul la finalul epocii 1 are valoarea 2.298398494720459\n",
            "Acuratetea la finalul epocii 2 este 10.84%\n",
            "Loss-ul la finalul epocii 2 are valoarea 2.300441265106201\n",
            "Acuratetea la finalul epocii 3 este 11.28%\n",
            "Loss-ul la finalul epocii 3 are valoarea 2.2991750240325928\n",
            "Acuratetea la finalul epocii 4 este 11.89%\n",
            "Loss-ul la finalul epocii 4 are valoarea 2.299428701400757\n",
            "Acuratetea la finalul epocii 5 este 12.30%\n",
            "Loss-ul la finalul epocii 5 are valoarea 2.2968640327453613\n",
            "Acuratetea la finalul epocii 6 este 12.79%\n",
            "Loss-ul la finalul epocii 6 are valoarea 2.2950003147125244\n",
            "Acuratetea la finalul epocii 7 este 12.99%\n",
            "Loss-ul la finalul epocii 7 are valoarea 2.2999870777130127\n",
            "Acuratetea la finalul epocii 8 este 13.32%\n",
            "Loss-ul la finalul epocii 8 are valoarea 2.2979230880737305\n",
            "Acuratetea la finalul epocii 9 este 13.57%\n",
            "Loss-ul la finalul epocii 9 are valoarea 2.299198627471924\n",
            "Acuratetea la finalul epocii 10 este 13.98%\n",
            "Loss-ul la finalul epocii 10 are valoarea 2.2936503887176514\n",
            "Acuratetea la finalul epocii 11 este 14.20%\n",
            "Loss-ul la finalul epocii 11 are valoarea 2.29124116897583\n",
            "Acuratetea la finalul epocii 12 este 14.68%\n",
            "Loss-ul la finalul epocii 12 are valoarea 2.292921543121338\n",
            "Acuratetea la finalul epocii 13 este 14.95%\n",
            "Loss-ul la finalul epocii 13 are valoarea 2.2967770099639893\n",
            "Acuratetea la finalul epocii 14 este 15.17%\n",
            "Loss-ul la finalul epocii 14 are valoarea 2.2926573753356934\n",
            "Acuratetea la finalul epocii 15 este 15.48%\n",
            "Loss-ul la finalul epocii 15 are valoarea 2.2913403511047363\n",
            "Acuratetea la finalul epocii 16 este 15.71%\n",
            "Loss-ul la finalul epocii 16 are valoarea 2.291332483291626\n",
            "Acuratetea la finalul epocii 17 este 15.84%\n",
            "Loss-ul la finalul epocii 17 are valoarea 2.294382333755493\n",
            "Acuratetea la finalul epocii 18 este 16.24%\n",
            "Loss-ul la finalul epocii 18 are valoarea 2.2911174297332764\n",
            "Acuratetea la finalul epocii 19 este 16.65%\n",
            "Loss-ul la finalul epocii 19 are valoarea 2.2886877059936523\n",
            "Acuratetea la finalul epocii 20 este 16.96%\n"
          ]
        }
      ],
      "source": [
        "epochs = 20\n",
        "\n",
        "lenet = LeNet2()\n",
        "lenet_optimizer = optim.SGD(lenet.parameters(), lr=1e-4, momentum=0.9)\n",
        "loss_fn = nn.CrossEntropyLoss()\n",
        "\n",
        "train_fn(epochs, train_loader, test_loader, lenet, loss_fn, lenet_optimizer)"
      ]
    },
    {
      "cell_type": "code",
      "execution_count": 61,
      "metadata": {
        "id": "boK6Uy8HgcGW"
      },
      "outputs": [],
      "source": [
        "import torch.nn as nn\n",
        "\n",
        "class LeNet3(nn.Module):\n",
        "  def __init__(self):\n",
        "    super().__init__()\n",
        "    self.conv = nn.Sequential(\n",
        "        nn.Conv2d(3, 6, 5, 1, bias=False),\n",
        "        nn.BatchNorm2d(6),\n",
        "        nn.GELU(),\n",
        "        nn.AvgPool2d(2),\n",
        "        nn.Conv2d(6, 16, 5, 1, bias=False),\n",
        "        nn.BatchNorm2d(16),\n",
        "        nn.GELU(),\n",
        "        nn.AvgPool2d(2),\n",
        "        nn.Conv2d(16, 120, 5, 1, bias=False),\n",
        "        nn.BatchNorm2d(120),\n",
        "        nn.GELU(),\n",
        "    )\n",
        "\n",
        "    self.linear = nn.Sequential(\n",
        "        nn.Flatten(),\n",
        "        nn.Linear(120, 84, bias=False),\n",
        "        nn.BatchNorm1d(84),\n",
        "        nn.GELU(),\n",
        "        nn.Linear(84, 10),\n",
        "        nn.Softmax(dim=-1)\n",
        "    )\n",
        "\n",
        "  def forward(self,x):\n",
        "    x = self.conv(x)\n",
        "    x = self.linear(x)\n",
        "    return x"
      ]
    },
    {
      "cell_type": "code",
      "execution_count": 62,
      "metadata": {
        "colab": {
          "base_uri": "https://localhost:8080/"
        },
        "id": "ZuErDCz4gxBW",
        "outputId": "8611f6f1-fb75-475d-bce3-c3e53b8a8f1b"
      },
      "outputs": [
        {
          "name": "stdout",
          "output_type": "stream",
          "text": [
            "Loss-ul la finalul epocii 0 are valoarea 2.30248761177063\n",
            "Acuratetea la finalul epocii 1 este 10.14%\n",
            "Loss-ul la finalul epocii 1 are valoarea 2.300225257873535\n",
            "Acuratetea la finalul epocii 2 este 10.54%\n",
            "Loss-ul la finalul epocii 2 are valoarea 2.2965474128723145\n",
            "Acuratetea la finalul epocii 3 este 11.02%\n",
            "Loss-ul la finalul epocii 3 are valoarea 2.3016161918640137\n",
            "Acuratetea la finalul epocii 4 este 11.50%\n",
            "Loss-ul la finalul epocii 4 are valoarea 2.298255681991577\n",
            "Acuratetea la finalul epocii 5 este 11.86%\n",
            "Loss-ul la finalul epocii 5 are valoarea 2.2988061904907227\n",
            "Acuratetea la finalul epocii 6 este 12.54%\n",
            "Loss-ul la finalul epocii 6 are valoarea 2.296520471572876\n",
            "Acuratetea la finalul epocii 7 este 12.96%\n",
            "Loss-ul la finalul epocii 7 are valoarea 2.294252634048462\n",
            "Acuratetea la finalul epocii 8 este 13.47%\n",
            "Loss-ul la finalul epocii 8 are valoarea 2.297171115875244\n",
            "Acuratetea la finalul epocii 9 este 14.01%\n",
            "Loss-ul la finalul epocii 9 are valoarea 2.290009021759033\n",
            "Acuratetea la finalul epocii 10 este 14.51%\n",
            "Loss-ul la finalul epocii 10 are valoarea 2.288703680038452\n",
            "Acuratetea la finalul epocii 11 este 15.07%\n",
            "Loss-ul la finalul epocii 11 are valoarea 2.2933337688446045\n",
            "Acuratetea la finalul epocii 12 este 15.66%\n",
            "Loss-ul la finalul epocii 12 are valoarea 2.2917001247406006\n",
            "Acuratetea la finalul epocii 13 este 16.35%\n",
            "Loss-ul la finalul epocii 13 are valoarea 2.2895939350128174\n",
            "Acuratetea la finalul epocii 14 este 17.26%\n",
            "Loss-ul la finalul epocii 14 are valoarea 2.2907164096832275\n",
            "Acuratetea la finalul epocii 15 este 17.90%\n",
            "Loss-ul la finalul epocii 15 are valoarea 2.285951614379883\n",
            "Acuratetea la finalul epocii 16 este 18.74%\n",
            "Loss-ul la finalul epocii 16 are valoarea 2.2861311435699463\n",
            "Acuratetea la finalul epocii 17 este 19.23%\n",
            "Loss-ul la finalul epocii 17 are valoarea 2.2857096195220947\n",
            "Acuratetea la finalul epocii 18 este 19.70%\n",
            "Loss-ul la finalul epocii 18 are valoarea 2.2773046493530273\n",
            "Acuratetea la finalul epocii 19 este 20.14%\n",
            "Loss-ul la finalul epocii 19 are valoarea 2.2796945571899414\n",
            "Acuratetea la finalul epocii 20 este 20.53%\n"
          ]
        }
      ],
      "source": [
        "epochs = 20\n",
        "\n",
        "lenet = LeNet3()\n",
        "lenet_optimizer = optim.SGD(lenet.parameters(), lr=1e-4, momentum=0.9)\n",
        "loss_fn = nn.CrossEntropyLoss()\n",
        "\n",
        "train_fn(epochs, train_loader, test_loader, lenet, loss_fn, lenet_optimizer)"
      ]
    }
  ],
  "metadata": {
    "accelerator": "GPU",
    "colab": {
      "provenance": []
    },
    "gpuClass": "standard",
    "kernelspec": {
      "display_name": "Python 3",
      "name": "python3"
    },
    "language_info": {
      "codemirror_mode": {
        "name": "ipython",
        "version": 3
      },
      "file_extension": ".py",
      "mimetype": "text/x-python",
      "name": "python",
      "nbconvert_exporter": "python",
      "pygments_lexer": "ipython3",
      "version": "3.9.13"
    },
    "widgets": {
      "application/vnd.jupyter.widget-state+json": {
        "10625c48be5540f39702bb04b0f3a7d2": {
          "model_module": "@jupyter-widgets/controls",
          "model_module_version": "1.5.0",
          "model_name": "HTMLModel",
          "state": {
            "_dom_classes": [],
            "_model_module": "@jupyter-widgets/controls",
            "_model_module_version": "1.5.0",
            "_model_name": "HTMLModel",
            "_view_count": null,
            "_view_module": "@jupyter-widgets/controls",
            "_view_module_version": "1.5.0",
            "_view_name": "HTMLView",
            "description": "",
            "description_tooltip": null,
            "layout": "IPY_MODEL_defa9c475caf469a98860d6f6e189e26",
            "placeholder": "​",
            "style": "IPY_MODEL_960911735816424fb892187d990405b5",
            "value": "100%"
          }
        },
        "50b0ed2fabf044ffbf73587e533840bf": {
          "model_module": "@jupyter-widgets/controls",
          "model_module_version": "1.5.0",
          "model_name": "ProgressStyleModel",
          "state": {
            "_model_module": "@jupyter-widgets/controls",
            "_model_module_version": "1.5.0",
            "_model_name": "ProgressStyleModel",
            "_view_count": null,
            "_view_module": "@jupyter-widgets/base",
            "_view_module_version": "1.2.0",
            "_view_name": "StyleView",
            "bar_color": null,
            "description_width": ""
          }
        },
        "598a25f6f7104777be24e1e4a9b4188c": {
          "model_module": "@jupyter-widgets/base",
          "model_module_version": "1.2.0",
          "model_name": "LayoutModel",
          "state": {
            "_model_module": "@jupyter-widgets/base",
            "_model_module_version": "1.2.0",
            "_model_name": "LayoutModel",
            "_view_count": null,
            "_view_module": "@jupyter-widgets/base",
            "_view_module_version": "1.2.0",
            "_view_name": "LayoutView",
            "align_content": null,
            "align_items": null,
            "align_self": null,
            "border": null,
            "bottom": null,
            "display": null,
            "flex": null,
            "flex_flow": null,
            "grid_area": null,
            "grid_auto_columns": null,
            "grid_auto_flow": null,
            "grid_auto_rows": null,
            "grid_column": null,
            "grid_gap": null,
            "grid_row": null,
            "grid_template_areas": null,
            "grid_template_columns": null,
            "grid_template_rows": null,
            "height": null,
            "justify_content": null,
            "justify_items": null,
            "left": null,
            "margin": null,
            "max_height": null,
            "max_width": null,
            "min_height": null,
            "min_width": null,
            "object_fit": null,
            "object_position": null,
            "order": null,
            "overflow": null,
            "overflow_x": null,
            "overflow_y": null,
            "padding": null,
            "right": null,
            "top": null,
            "visibility": null,
            "width": null
          }
        },
        "68047f843b184569adeb3ad30ed7570b": {
          "model_module": "@jupyter-widgets/controls",
          "model_module_version": "1.5.0",
          "model_name": "HTMLModel",
          "state": {
            "_dom_classes": [],
            "_model_module": "@jupyter-widgets/controls",
            "_model_module_version": "1.5.0",
            "_model_name": "HTMLModel",
            "_view_count": null,
            "_view_module": "@jupyter-widgets/controls",
            "_view_module_version": "1.5.0",
            "_view_name": "HTMLView",
            "description": "",
            "description_tooltip": null,
            "layout": "IPY_MODEL_598a25f6f7104777be24e1e4a9b4188c",
            "placeholder": "​",
            "style": "IPY_MODEL_f6c2a838ab974a0283be361b1799f0f5",
            "value": " 170498071/170498071 [00:02&lt;00:00, 55961011.80it/s]"
          }
        },
        "960911735816424fb892187d990405b5": {
          "model_module": "@jupyter-widgets/controls",
          "model_module_version": "1.5.0",
          "model_name": "DescriptionStyleModel",
          "state": {
            "_model_module": "@jupyter-widgets/controls",
            "_model_module_version": "1.5.0",
            "_model_name": "DescriptionStyleModel",
            "_view_count": null,
            "_view_module": "@jupyter-widgets/base",
            "_view_module_version": "1.2.0",
            "_view_name": "StyleView",
            "description_width": ""
          }
        },
        "a0466ecd880c4ae0980cb2e01ba16ac4": {
          "model_module": "@jupyter-widgets/controls",
          "model_module_version": "1.5.0",
          "model_name": "FloatProgressModel",
          "state": {
            "_dom_classes": [],
            "_model_module": "@jupyter-widgets/controls",
            "_model_module_version": "1.5.0",
            "_model_name": "FloatProgressModel",
            "_view_count": null,
            "_view_module": "@jupyter-widgets/controls",
            "_view_module_version": "1.5.0",
            "_view_name": "ProgressView",
            "bar_style": "success",
            "description": "",
            "description_tooltip": null,
            "layout": "IPY_MODEL_bb757c72ac9c4a7c8b10dee50a60906b",
            "max": 170498071,
            "min": 0,
            "orientation": "horizontal",
            "style": "IPY_MODEL_50b0ed2fabf044ffbf73587e533840bf",
            "value": 170498071
          }
        },
        "b2741e5fa5ac410bbbae7b177b091856": {
          "model_module": "@jupyter-widgets/base",
          "model_module_version": "1.2.0",
          "model_name": "LayoutModel",
          "state": {
            "_model_module": "@jupyter-widgets/base",
            "_model_module_version": "1.2.0",
            "_model_name": "LayoutModel",
            "_view_count": null,
            "_view_module": "@jupyter-widgets/base",
            "_view_module_version": "1.2.0",
            "_view_name": "LayoutView",
            "align_content": null,
            "align_items": null,
            "align_self": null,
            "border": null,
            "bottom": null,
            "display": null,
            "flex": null,
            "flex_flow": null,
            "grid_area": null,
            "grid_auto_columns": null,
            "grid_auto_flow": null,
            "grid_auto_rows": null,
            "grid_column": null,
            "grid_gap": null,
            "grid_row": null,
            "grid_template_areas": null,
            "grid_template_columns": null,
            "grid_template_rows": null,
            "height": null,
            "justify_content": null,
            "justify_items": null,
            "left": null,
            "margin": null,
            "max_height": null,
            "max_width": null,
            "min_height": null,
            "min_width": null,
            "object_fit": null,
            "object_position": null,
            "order": null,
            "overflow": null,
            "overflow_x": null,
            "overflow_y": null,
            "padding": null,
            "right": null,
            "top": null,
            "visibility": null,
            "width": null
          }
        },
        "b38079d979114f0ca269bd872dedf348": {
          "model_module": "@jupyter-widgets/controls",
          "model_module_version": "1.5.0",
          "model_name": "HBoxModel",
          "state": {
            "_dom_classes": [],
            "_model_module": "@jupyter-widgets/controls",
            "_model_module_version": "1.5.0",
            "_model_name": "HBoxModel",
            "_view_count": null,
            "_view_module": "@jupyter-widgets/controls",
            "_view_module_version": "1.5.0",
            "_view_name": "HBoxView",
            "box_style": "",
            "children": [
              "IPY_MODEL_10625c48be5540f39702bb04b0f3a7d2",
              "IPY_MODEL_a0466ecd880c4ae0980cb2e01ba16ac4",
              "IPY_MODEL_68047f843b184569adeb3ad30ed7570b"
            ],
            "layout": "IPY_MODEL_b2741e5fa5ac410bbbae7b177b091856"
          }
        },
        "bb757c72ac9c4a7c8b10dee50a60906b": {
          "model_module": "@jupyter-widgets/base",
          "model_module_version": "1.2.0",
          "model_name": "LayoutModel",
          "state": {
            "_model_module": "@jupyter-widgets/base",
            "_model_module_version": "1.2.0",
            "_model_name": "LayoutModel",
            "_view_count": null,
            "_view_module": "@jupyter-widgets/base",
            "_view_module_version": "1.2.0",
            "_view_name": "LayoutView",
            "align_content": null,
            "align_items": null,
            "align_self": null,
            "border": null,
            "bottom": null,
            "display": null,
            "flex": null,
            "flex_flow": null,
            "grid_area": null,
            "grid_auto_columns": null,
            "grid_auto_flow": null,
            "grid_auto_rows": null,
            "grid_column": null,
            "grid_gap": null,
            "grid_row": null,
            "grid_template_areas": null,
            "grid_template_columns": null,
            "grid_template_rows": null,
            "height": null,
            "justify_content": null,
            "justify_items": null,
            "left": null,
            "margin": null,
            "max_height": null,
            "max_width": null,
            "min_height": null,
            "min_width": null,
            "object_fit": null,
            "object_position": null,
            "order": null,
            "overflow": null,
            "overflow_x": null,
            "overflow_y": null,
            "padding": null,
            "right": null,
            "top": null,
            "visibility": null,
            "width": null
          }
        },
        "defa9c475caf469a98860d6f6e189e26": {
          "model_module": "@jupyter-widgets/base",
          "model_module_version": "1.2.0",
          "model_name": "LayoutModel",
          "state": {
            "_model_module": "@jupyter-widgets/base",
            "_model_module_version": "1.2.0",
            "_model_name": "LayoutModel",
            "_view_count": null,
            "_view_module": "@jupyter-widgets/base",
            "_view_module_version": "1.2.0",
            "_view_name": "LayoutView",
            "align_content": null,
            "align_items": null,
            "align_self": null,
            "border": null,
            "bottom": null,
            "display": null,
            "flex": null,
            "flex_flow": null,
            "grid_area": null,
            "grid_auto_columns": null,
            "grid_auto_flow": null,
            "grid_auto_rows": null,
            "grid_column": null,
            "grid_gap": null,
            "grid_row": null,
            "grid_template_areas": null,
            "grid_template_columns": null,
            "grid_template_rows": null,
            "height": null,
            "justify_content": null,
            "justify_items": null,
            "left": null,
            "margin": null,
            "max_height": null,
            "max_width": null,
            "min_height": null,
            "min_width": null,
            "object_fit": null,
            "object_position": null,
            "order": null,
            "overflow": null,
            "overflow_x": null,
            "overflow_y": null,
            "padding": null,
            "right": null,
            "top": null,
            "visibility": null,
            "width": null
          }
        },
        "f6c2a838ab974a0283be361b1799f0f5": {
          "model_module": "@jupyter-widgets/controls",
          "model_module_version": "1.5.0",
          "model_name": "DescriptionStyleModel",
          "state": {
            "_model_module": "@jupyter-widgets/controls",
            "_model_module_version": "1.5.0",
            "_model_name": "DescriptionStyleModel",
            "_view_count": null,
            "_view_module": "@jupyter-widgets/base",
            "_view_module_version": "1.2.0",
            "_view_name": "StyleView",
            "description_width": ""
          }
        }
      }
    }
  },
  "nbformat": 4,
  "nbformat_minor": 0
}
